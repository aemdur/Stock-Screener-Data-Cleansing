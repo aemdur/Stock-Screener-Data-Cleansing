{
 "cells": [
  {
   "cell_type": "markdown",
   "metadata": {},
   "source": [
    "Import dependencies\n"
   ]
  },
  {
   "cell_type": "code",
   "execution_count": null,
   "metadata": {},
   "outputs": [],
   "source": [
    "import pandas as pd"
   ]
  },
  {
   "cell_type": "markdown",
   "metadata": {},
   "source": [
    "Reads from an 'excel.xlsx' file "
   ]
  },
  {
   "cell_type": "code",
   "execution_count": null,
   "metadata": {},
   "outputs": [],
   "source": [
    "df = pd.read_excel('C:/Users/emdur/Stock_Data.xlsx')"
   ]
  },
  {
   "cell_type": "markdown",
   "metadata": {},
   "source": [
    "Visually select and index columns with string numbers containing the letters 'K', 'M', 'B', & 'T', these are our Vol, Volum*Price, Mkt Cap & EMPLOYEES columns, which are columns 6, 7, 8 & 11 respectively.\n",
    "\n",
    "The str method will remove the trailing letters and split them into a new column by the same name '_f' which will contain the letter which corresponds to teh factor K:1,000, M:1,000,000, B:1,000,000,000, T:1,000,000,000,000  "
   ]
  },
  {
   "cell_type": "code",
   "execution_count": null,
   "metadata": {},
   "outputs": [],
   "source": [
    "df['Vol_f']= df.iloc[:,5].str[-1:]\n",
    "df['Vol'] = df.iloc[:,5].str[:-1] \n",
    "df['Volume*Price_f'] = df.iloc[:,6].str[-1:]\n",
    "df['Volume*Price'] = df.iloc[:,6].str[:-1] \n",
    "df['Mkt Cap_f'] = df.iloc[:,7].str[-1:]\n",
    "df['Mkt Cap'] = df.iloc[:,7].str[:-1] \n",
    "df['EMPLOYEES_f'] = df.iloc[:,10].str[-1:]\n",
    "df['EMPLOYEES'] = df.iloc[:,10].str[:-1]\n"
   ]
  },
  {
   "cell_type": "markdown",
   "metadata": {},
   "source": [
    "The Replace method will replace the corresponding factorial letters with the numerical factor of type int "
   ]
  },
  {
   "cell_type": "code",
   "execution_count": null,
   "metadata": {},
   "outputs": [],
   "source": [
    "df.iloc[:,:].replace({'T':1000000000000,'B': 1000000000, 'M': 1000000, 'K': 1000}, inplace=True)"
   ]
  },
  {
   "cell_type": "markdown",
   "metadata": {},
   "source": [
    "Create New Columns which multiply the first part of the split number by the factor. The original fields were string type so they need to be converted to float with the to_numeric method"
   ]
  },
  {
   "cell_type": "code",
   "execution_count": null,
   "metadata": {},
   "outputs": [],
   "source": [
    "df['Volume'] = pd.to_numeric(df['Vol']) * df['Vol_f']\n",
    "df['Volume to Price'] = pd.to_numeric(df['Volume*Price']) * df['Volume*Price_f']\n",
    "df['Market Capitalization'] = pd.to_numeric(df['Mkt Cap']) * df['Mkt Cap_f']\n",
    "df['Employees'] = pd.to_numeric(df['EMPLOYEES']) * df['EMPLOYEES_f']\n"
   ]
  },
  {
   "cell_type": "markdown",
   "metadata": {},
   "source": [
    "Create a new field Company by exctracting the second element of a split on teh string with teh letter 'D' which copied over with our data. We reformat the ticker field to only contain the first element of the split"
   ]
  },
  {
   "cell_type": "code",
   "execution_count": null,
   "metadata": {},
   "outputs": [],
   "source": [
    "df['Company'] = df['Ticker'].str.split('D', 1).str.get(1)\n",
    "df['Ticker'] = df['Ticker'].str.split('D', 1).str.get(0)"
   ]
  },
  {
   "cell_type": "markdown",
   "metadata": {},
   "source": [
    "Create a new df df_n containing only the new columns we are selecting"
   ]
  },
  {
   "cell_type": "code",
   "execution_count": null,
   "metadata": {},
   "outputs": [],
   "source": [
    "df_n = df[['Ticker','Company','Price','Chg %', 'Volume', 'Chg', 'Technical Rating', 'Volume to Price', 'Market Capitalization', 'P/E', 'EPS (TTM)', 'Employees', 'Sector']].copy()"
   ]
  },
  {
   "cell_type": "markdown",
   "metadata": {},
   "source": [
    "Set Tickers as the index to remove the row numbers from the dataset"
   ]
  },
  {
   "cell_type": "code",
   "execution_count": null,
   "metadata": {},
   "outputs": [],
   "source": [
    "#df_n.set_index('Ticker', inplace=True)"
   ]
  },
  {
   "cell_type": "markdown",
   "metadata": {},
   "source": [
    "Sort Values by Market Cap with index in place this will create a dataset with companies ranked by market cap"
   ]
  },
  {
   "cell_type": "code",
   "execution_count": null,
   "metadata": {},
   "outputs": [],
   "source": [
    "df_n.sort_values('Market Capitalization', inplace=True)"
   ]
  },
  {
   "cell_type": "markdown",
   "metadata": {},
   "source": [
    "Read the data from df_n back into an excel format"
   ]
  },
  {
   "cell_type": "code",
   "execution_count": null,
   "metadata": {},
   "outputs": [],
   "source": [
    "df_n.to_excel('Stocks_w_factor.xlsx',encoding=None, header=True)"
   ]
  }
 ],
 "metadata": {
  "kernelspec": {
   "display_name": "Python 3.10.8 64-bit (microsoft store)",
   "language": "python",
   "name": "python3"
  },
  "language_info": {
   "codemirror_mode": {
    "name": "ipython",
    "version": 3
   },
   "file_extension": ".py",
   "mimetype": "text/x-python",
   "name": "python",
   "nbconvert_exporter": "python",
   "pygments_lexer": "ipython3",
   "version": "3.10.8"
  },
  "vscode": {
   "interpreter": {
    "hash": "ae1f2f639965711ca4f4892a5f30aad508031a9ceed80ccb9da8ef5d71062823"
   }
  }
 },
 "nbformat": 4,
 "nbformat_minor": 4
}
